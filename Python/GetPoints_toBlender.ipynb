{
 "cells": [
  {
   "cell_type": "code",
   "execution_count": 125,
   "id": "74a46865",
   "metadata": {},
   "outputs": [],
   "source": [
    "import numpy as np\n",
    "from matplotlib import pyplot as plt"
   ]
  },
  {
   "cell_type": "code",
   "execution_count": 126,
   "id": "04763499",
   "metadata": {},
   "outputs": [],
   "source": [
    "import cv2"
   ]
  },
  {
   "cell_type": "code",
   "execution_count": 127,
   "id": "d94e7f05",
   "metadata": {},
   "outputs": [],
   "source": [
    "def Method_OpticalFlowDepthMap(image1_jpg, image2_jpg):\n",
    "    vec_optical_flow = cv2.calcOpticalFlowFarneback(image1_jpg, image2_jpg, None, .05, 1, 12, 2, 8, 1.2, 0)\n",
    "    module_vector_speed, angular_vec_speed = cv2.cartToPolar(vec_optical_flow[..., 0], vec_optical_flow[..., 1])\n",
    "    return vec_optical_flow"
   ]
  },
  {
   "cell_type": "code",
   "execution_count": 128,
   "id": "be296895",
   "metadata": {},
   "outputs": [],
   "source": [
    "def convert_ply(points):\n",
    "    with open(r'E:\\BKP(mag)\\Habr\\points.ply', 'w') as f:\n",
    "        f.write('ply\\n')\n",
    "        f.write('format ascii 1.0\\n')\n",
    "        f.write('element vertex {}\\n'.format(len(points)))\n",
    "        f.write('property float x\\n')\n",
    "        f.write('property float y\\n')\n",
    "        f.write('property float z\\n')\n",
    "        f.write('end_header\\n')\n",
    "        for point in points:\n",
    "            f.write('{:.2f} {:.2f} {:.2f}\\n'.format(point[0], point[2], point[1]))"
   ]
  },
  {
   "cell_type": "code",
   "execution_count": 129,
   "id": "05092535",
   "metadata": {},
   "outputs": [],
   "source": [
    "def plot(title_str, image, index):\n",
    "    plt.subplot(2, 2, index)\n",
    "    plt.title(title_str)\n",
    "    plt.imshow(image, 'gray')\n",
    "    plt.gca().get_xaxis().set_visible(False)\n",
    "    plt.gca().get_yaxis().set_visible(False)"
   ]
  },
  {
   "cell_type": "code",
   "execution_count": 130,
   "id": "210e1973",
   "metadata": {},
   "outputs": [],
   "source": [
    "B_step = 1\n",
    "w_width = 1920\n",
    "h_heigth = 1080\n",
    "f_focalLength = 300\n",
    "\n",
    "result_proccesingPoints = []\n",
    "\n",
    "image1_jpg = cv2.imread(r'E:\\BKP(mag)\\Habr\\1.jpg', 0)\n",
    "image2_jpg = cv2.imread(r'E:\\BKP(mag)\\Habr\\2.jpg', 0)\n",
    "\n",
    "vec_opticalFlow = Method_OpticalFlowDepthMap(image1_jpg, image2_jpg)\n",
    "vec_module_speed, vec_angular_speed = cv2.cartToPolar(vec_opticalFlow[..., 0], vec_opticalFlow[..., 1])\n",
    "\n",
    "conture = cv2.Canny(image1_jpg, 100, 200)\n",
    "\n",
    "for y in range(image1_jpg.shape[0]):\n",
    "    for x in range(image1_jpg.shape[1]):\n",
    "        if conture[y, x] == 0:\n",
    "            continue\n",
    "        #delta = vec_module_speed[y, x]\n",
    "        #if delta == 0:\n",
    "            #continue\n",
    "        Z_axes = (B * f_focalLength) / delta\n",
    "        X_axes = (Z * (x - h_heigth / 2.)) / f_focalLength\n",
    "        Y_axes = (Z * (y - h_heigth / 2.)) / f_focalLength\n",
    "        tmp_point = np.array([X_axes, Y_axes, Z_axes])\n",
    "        result_proccesingPoints.append(tmp_point)\n",
    "\n",
    "result_proccesingPoints = np.vstack(result_proccesingPoints)"
   ]
  },
  {
   "cell_type": "code",
   "execution_count": 131,
   "id": "462b70c9",
   "metadata": {},
   "outputs": [],
   "source": [
    "convert_ply(result_proccesingPoints)"
   ]
  },
  {
   "cell_type": "code",
   "execution_count": null,
   "id": "58f2f382",
   "metadata": {},
   "outputs": [],
   "source": []
  }
 ],
 "metadata": {
  "kernelspec": {
   "display_name": "Python 3 (ipykernel)",
   "language": "python",
   "name": "python3"
  },
  "language_info": {
   "codemirror_mode": {
    "name": "ipython",
    "version": 3
   },
   "file_extension": ".py",
   "mimetype": "text/x-python",
   "name": "python",
   "nbconvert_exporter": "python",
   "pygments_lexer": "ipython3",
   "version": "3.11.4"
  }
 },
 "nbformat": 4,
 "nbformat_minor": 5
}
