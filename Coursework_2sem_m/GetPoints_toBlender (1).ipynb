{
 "cells": [
  {
   "cell_type": "code",
   "execution_count": 1,
   "id": "74a46865",
   "metadata": {},
   "outputs": [],
   "source": [
    "import numpy as np\n",
    "from numpy import random\n",
    "\n",
    "from matplotlib import pyplot as plt\n",
    "import math\n",
    "from math import hypot\n",
    "\n",
    "from itertools import cycle\n",
    "\n",
    "from sklearn.cluster import DBSCAN\n",
    "\n",
    "import matplotlib.pyplot as plt\n",
    "from sklearn.neighbors import NearestNeighbors\n",
    "\n",
    "import cv2"
   ]
  },
  {
   "cell_type": "code",
   "execution_count": 2,
   "id": "d94e7f05",
   "metadata": {},
   "outputs": [],
   "source": [
    "def Method_OpticalFlowDepthMap(image1_jpg, image2_jpg):\n",
    "    vec_optical_flow = cv2.calcOpticalFlowFarneback(image1_jpg, image2_jpg, None, 0.5, 3, 20, 10, 5, 1.2, 0)\n",
    "    module_vector_speed, angular_vec_speed = cv2.cartToPolar(vec_optical_flow[..., 0], vec_optical_flow[..., 1])\n",
    "    return vec_optical_flow, module_vector_speed, angular_vec_speed"
   ]
  },
  {
   "cell_type": "code",
   "execution_count": 3,
   "id": "d17dfbf0",
   "metadata": {},
   "outputs": [],
   "source": [
    "def plot(title_str, image, index):\n",
    "    plt.subplot(2, 2, index)\n",
    "    plt.title(title_str)\n",
    "    plt.imshow(image, 'gray')\n",
    "    plt.gca().get_xaxis().set_visible(False)\n",
    "    plt.gca().get_yaxis().set_visible(False)"
   ]
  },
  {
   "cell_type": "code",
   "execution_count": 4,
   "id": "be296895",
   "metadata": {},
   "outputs": [],
   "source": [
    "def convert_ply(points):\n",
    "    with open(r'E:\\BKP(mag)\\Habr\\points.ply', 'w') as f:\n",
    "        f.write('ply\\n')\n",
    "        f.write('format ascii 1.0\\n')\n",
    "        f.write('element vertex {}\\n'.format(len(points)))\n",
    "        f.write('property float x\\n')\n",
    "        f.write('property float y\\n')\n",
    "        f.write('property float z\\n')\n",
    "        f.write('end_header\\n')\n",
    "        for point in points:\n",
    "            f.write('{:.2f} {:.2f} {:.2f}\\n'.format(point[0], point[2], point[1]))"
   ]
  },
  {
   "cell_type": "code",
   "execution_count": 5,
   "id": "049e649f",
   "metadata": {},
   "outputs": [],
   "source": [
    "f = 300   # раз мы занимаемся визуализацией, фокус я все-таки подобрал так, чтобы сцена выглядела условно реальной\n",
    "B = 1\n",
    "w = 852\n",
    "h = 480\n",
    "\n",
    "img1 = cv2.imread(r'E:\\BKP(mag)\\Habr\\1.jpg', 0)\n",
    "img2 = cv2.imread(r'E:\\BKP(mag)\\Habr\\2.jpg', 0)\n",
    "\n",
    "flow = cv2.calcOpticalFlowFarneback(img1, img2, None, 0.5, 3, 20, 10, 5, 1.2, 0)\n",
    "mag, ang = cv2.cartToPolar(flow[..., 0], flow[..., 1])\n",
    "\n",
    "edges = cv2.Canny(img1, 100, 200)\n",
    "\n",
    "result = []\n",
    "for y in range(img1.shape[0]):\n",
    "    for x in range(img1.shape[1]):\n",
    "        if edges[y, x] == 0:\n",
    "            continue\n",
    "        delta = mag[y, x]\n",
    "        if delta == 0:\n",
    "            continue\n",
    "        Z = (B * f) / delta\n",
    "        X = (Z * (x - w / 2.)) / f\n",
    "        Y = (Z * (y - h / 2.)) / f\n",
    "        point = np.array([X, Y, Z])\n",
    "        result.append(point)\n",
    "\n",
    "result = np.vstack(result)\n",
    "\n",
    "\n",
    "def dump2ply(points):\n",
    "    # сохраняем в формат .ply, чтобы потом открыть Блендером\n",
    "    with open('points.ply', 'w') as f:\n",
    "        f.write('ply\\n')\n",
    "        f.write('format ascii 1.0\\n')\n",
    "        f.write('element vertex {}\\n'.format(len(points)))\n",
    "        f.write('property float x\\n')\n",
    "        f.write('property float y\\n')\n",
    "        f.write('property float z\\n')\n",
    "        f.write('end_header\\n')\n",
    "        for point in points:\n",
    "            f.write('{:.2f} {:.2f} {:.2f}\\n'.format(point[0], point[2], point[1]))\n",
    "\n",
    "dump2ply(result)"
   ]
  },
  {
   "cell_type": "code",
   "execution_count": 6,
   "id": "6aacfbb3",
   "metadata": {},
   "outputs": [],
   "source": [
    "B_step = 1\n",
    "w_width = 1920\n",
    "h_heigth = 1080\n",
    "f_focalLength = 250\n",
    "\n",
    "result_proccesingPoints = []\n",
    "\n",
    "image1_jpg = cv2.imread(r'E:\\BKP(mag)\\Habr\\1.jpg', 0)\n",
    "image2_jpg = cv2.imread(r'E:\\BKP(mag)\\Habr\\2.jpg', 0)\n",
    "\n",
    "vec_optical_flow = cv2.calcOpticalFlowFarneback(image1_jpg, image2_jpg, None, 0.5, 3, 20, 10, 5, 1.2, 0)\n",
    "module_vector_speed, angular_vec_speed = cv2.cartToPolar(vec_optical_flow[..., 0], vec_optical_flow[..., 1])\n",
    "\n",
    "conture = cv2.Canny(image1_jpg, 100, 200)\n",
    "\n",
    "for y in range(image1_jpg.shape[0]):\n",
    "    for x in range(image1_jpg.shape[1]):\n",
    "        if conture[y, x] == 0:\n",
    "            continue\n",
    "        delta = angular_vec_speed[y, x]\n",
    "        if delta == 0:\n",
    "            continue\n",
    "        Z_axes = (B * f_focalLength) / delta\n",
    "        X_axes = (Z * (x - h_heigth / 2.)) / f_focalLength\n",
    "        Y_axes = (Z * (y - h_heigth / 2.)) / f_focalLength\n",
    "        tmp_point = np.array([X_axes, Y_axes, Z_axes])\n",
    "        result_proccesingPoints.append(tmp_point)\n",
    "        \n",
    "for y in range(image1_jpg.shape[0]):\n",
    "    for x in range(image1_jpg.shape[1]):\n",
    "        if conture[y, x] == 0:\n",
    "            continue\n",
    "        delta = module_vector_speed[y, x]\n",
    "        if delta == 0:\n",
    "            continue\n",
    "        Z_axes = (B * f_focalLength) / delta\n",
    "        X_axes = (Z * (x - h_heigth / 2.)) / f_focalLength\n",
    "        Y_axes = (Z * (y - h_heigth / 2.)) / f_focalLength\n",
    "        tmp_point = np.array([X_axes, Y_axes, Z_axes])\n",
    "        result_proccesingPoints.append(tmp_point)\n",
    "        \n",
    "for y in range(image1_jpg.shape[0]):\n",
    "    for x in range(image1_jpg.shape[1]):\n",
    "        if conture[y, x] == 0:\n",
    "            continue\n",
    "        #delta = module_vector_speed[y, x]\n",
    "        #if delta == 0:\n",
    "            #continue\n",
    "        Z_axes = (B * f_focalLength) / delta\n",
    "        X_axes = (Z * (x - h_heigth / 2.)) / f_focalLength\n",
    "        Y_axes = (Z * (y - h_heigth / 2.)) / f_focalLength\n",
    "        tmp_point = np.array([X_axes, Y_axes, Z_axes])\n",
    "        result_proccesingPoints.append(tmp_point)\n",
    "\n",
    "result_proccesingPoints = np.vstack(result_proccesingPoints)"
   ]
  },
  {
   "cell_type": "code",
   "execution_count": 7,
   "id": "d6b0fdf0",
   "metadata": {},
   "outputs": [],
   "source": [
    "points_2d = []\n",
    "for y in range(image1_jpg.shape[0]):\n",
    "    for x in range(image1_jpg.shape[1]):\n",
    "        if conture[y, x] == 0:\n",
    "            continue\n",
    "        #delta = module_vector_speed[y, x]\n",
    "        #if delta == 0:\n",
    "            #continue\n",
    "        Z_axes = (B * f_focalLength) / delta\n",
    "        X_axes = (Z * (x - h_heigth / 2.)) / f_focalLength\n",
    "        Y_axes = (Z * (y - h_heigth / 2.)) / f_focalLength\n",
    "        tmp_point = np.array([X_axes, Y_axes, Z_axes])\n",
    "        points_2d.append(tmp_point)"
   ]
  },
  {
   "cell_type": "code",
   "execution_count": 8,
   "id": "454dfa1d",
   "metadata": {},
   "outputs": [],
   "source": [
    "convert_ply(points_2d)"
   ]
  },
  {
   "cell_type": "code",
   "execution_count": 9,
   "id": "e505baed",
   "metadata": {},
   "outputs": [
    {
     "data": {
      "text/plain": [
       "16878"
      ]
     },
     "execution_count": 9,
     "metadata": {},
     "output_type": "execute_result"
    }
   ],
   "source": [
    "len(result_proccesingPoints)"
   ]
  },
  {
   "cell_type": "code",
   "execution_count": 10,
   "id": "c25e82e6",
   "metadata": {},
   "outputs": [
    {
     "data": {
      "text/plain": [
       "array([-68.30356559, -68.43028835,  70.87267236])"
      ]
     },
     "execution_count": 10,
     "metadata": {},
     "output_type": "execute_result"
    }
   ],
   "source": [
    "result_proccesingPoints[0]"
   ]
  },
  {
   "cell_type": "code",
   "execution_count": 11,
   "id": "f337fc07",
   "metadata": {},
   "outputs": [],
   "source": [
    "filtered_points = []\n",
    "for i in range(len(result_proccesingPoints)):\n",
    "    if(23 <= result_proccesingPoints[i][2] <= 91):\n",
    "        filtered_points.append(result_proccesingPoints[i])"
   ]
  },
  {
   "cell_type": "code",
   "execution_count": 12,
   "id": "71f1b1b6",
   "metadata": {},
   "outputs": [],
   "source": [
    "convert_ply(filtered_points)"
   ]
  },
  {
   "cell_type": "code",
   "execution_count": 28,
   "id": "c445093d",
   "metadata": {},
   "outputs": [
    {
     "data": {
      "image/png": "[encoded data removed]",
      "text/plain": [
       "<Figure size 640x480 with 2 Axes>"
      ]
     },
     "metadata": {},
     "output_type": "display_data"
    }
   ],
   "source": [
    "conture1 = cv2.Canny(image1_jpg, 100, 200)\n",
    "conture2 = cv2.Canny(image2_jpg, 100, 200)\n",
    "\n",
    "plot('img_left', conture1, 1)\n",
    "plot('img_right', conture2, 2)"
   ]
  },
  {
   "cell_type": "code",
   "execution_count": 197,
   "id": "3ea115ca",
   "metadata": {},
   "outputs": [
    {
     "data": {
      "image/png": "[encoded data removed]",
      "text/plain": [
       "<Figure size 640x480 with 1 Axes>"
      ]
     },
     "metadata": {},
     "output_type": "display_data"
    }
   ],
   "source": [
    "def distance2D(point1, point2):\n",
    "        return math.sqrt((point2[0] - point1[0])**2 + (point2[1] - point1[1])**2)\n",
    "    \n",
    "def find_neighbours(points_set, point1, eps):\n",
    "    neighbours = []\n",
    "    for point2 in points_set:\n",
    "        if distance2D(point1, point2) < eps:\n",
    "            neighbours.append(point2)\n",
    "    return neighbours\n",
    "\n",
    "def update_cluster(p, neighbours, clusters, clustered_points, visited_points, eps, m, points_set, NOISE, C):\n",
    "    if C not in clusters:\n",
    "        clusters[C] = []\n",
    "    clusters[C].append(p)\n",
    "    clustered_points.add(p)\n",
    "    while neighbours:\n",
    "        q = neighbours.pop()\n",
    "        if q not in visited_points:\n",
    "            visited_points.add(q)\n",
    "            neighbourz = find_neighbours(points_set, q, eps)\n",
    "            if len(neighbourz) > m:\n",
    "                neighbours.extend(neighbourz)\n",
    "        if q not in clustered_points:\n",
    "            clustered_points.add(q)\n",
    "            clusters[C].append(q)\n",
    "            if q in clusters[NOISE]:\n",
    "                clusters[NOISE].remove(q)\n",
    "\n",
    "def dbscan_naive(points_set, eps, m, distance2D):\n",
    "    NOISE = 0\n",
    "    C = 1\n",
    "    visited_points = set()\n",
    "    clustered_points = set()\n",
    "    clusters = {NOISE: []}\n",
    "\n",
    "    for point1 in points_set:\n",
    "        if point1 in visited_points:\n",
    "            continue\n",
    "        visited_points.add(point1)\n",
    "        neighbours = find_neighbours(points_set, point1, eps)\n",
    "        if len(neighbours) < m:\n",
    "            clusters[NOISE].append(point1)\n",
    "        else:\n",
    "            C += 1\n",
    "            update_cluster(point1, neighbours, clusters, clustered_points, visited_points, eps, m, points_set, NOISE, C)\n",
    "\n",
    "    return clusters\n",
    "\n",
    "if __name__ == \"__main__\":\n",
    "    P = [(random.randn()/2, random.randn()/6) for i in range(150)]\n",
    "    P.extend([(random.randn()/3 + 2.5, random.randn()/5) for i in range(150)])\n",
    "    P.extend([(i/25 - 1, + random.randn()/20 - 1) for i in range(100)])\n",
    "    clusters = dbscan_naive(P, 0.2, 4, lambda x, y: hypot(x[0] - y[0], x[1] - y[1]))\n",
    "    for c, points in zip(cycle('bgrcmykgrcmykgrcmykgrcmykgrcmykgrcmyk'), clusters.values()):\n",
    "        X = [p[0] for p in points]\n",
    "        Y = [p[1] for p in points]\n",
    "        plt.scatter(X, Y, c=c)\n",
    "    plt.show()"
   ]
  },
  {
   "cell_type": "code",
   "execution_count": 239,
   "id": "c35df2e0",
   "metadata": {},
   "outputs": [],
   "source": [
    "dbscan = DBSCAN(eps = 8, min_samples = 20)\n",
    "dbscan.fit(points_2d)\n",
    "\n",
    "labels = dbscan.labels_"
   ]
  },
  {
   "cell_type": "code",
   "execution_count": 240,
   "id": "89754fc1",
   "metadata": {},
   "outputs": [
    {
     "data": {
      "text/plain": [
       "array([0], dtype=int64)"
      ]
     },
     "execution_count": 240,
     "metadata": {},
     "output_type": "execute_result"
    }
   ],
   "source": [
    "unique_labels = np.unique(labels)\n",
    "unique_labels"
   ]
  },
  {
   "cell_type": "code",
   "execution_count": 241,
   "id": "cd7ac7d4",
   "metadata": {},
   "outputs": [
    {
     "data": {
      "text/plain": [
       "2"
      ]
     },
     "execution_count": 241,
     "metadata": {},
     "output_type": "execute_result"
    }
   ],
   "source": [
    "def find_eps():\n",
    "    random_eps_arr = np.random.randint(0, 101, size=1000)\n",
    "    for epsilon in random_eps_arr: \n",
    "        dbscan = DBSCAN(eps = epsilon, min_samples = 20)\n",
    "        dbscan.fit(points_2d)\n",
    "        labels = dbscan.labels_\n",
    "        unique_labels = np.unique(labels)\n",
    "        if(len(unique_labels) == 4):\n",
    "            return epsilon\n",
    "        \n",
    "epsilon = find_eps()\n",
    "epsilon"
   ]
  },
  {
   "cell_type": "code",
   "execution_count": 242,
   "id": "3a0a153d",
   "metadata": {},
   "outputs": [],
   "source": [
    "dbscan = DBSCAN(eps = epsilon, min_samples = 20)\n",
    "dbscan.fit(points_2d)\n",
    "labels = dbscan.labels_\n",
    "unique_labels = np.unique(labels)\n",
    "\n",
    "clusters = [[] for _ in range(0, len(unique_labels + 1))]\n",
    "\n",
    "for i in range(len(labels)):\n",
    "    label = labels[i]\n",
    "    clusters[label - 1].append(points_2d[i])\n",
    "    \n",
    "for i in range(len(clusters)):\n",
    "    clusters[i] = np.array(clusters[i])  "
   ]
  },
  {
   "cell_type": "code",
   "execution_count": 243,
   "id": "d72898e4",
   "metadata": {},
   "outputs": [
    {
     "data": {
      "text/plain": [
       "4"
      ]
     },
     "execution_count": 243,
     "metadata": {},
     "output_type": "execute_result"
    }
   ],
   "source": [
    "len(clusters)"
   ]
  },
  {
   "cell_type": "code",
   "execution_count": 257,
   "id": "ccb56be1",
   "metadata": {},
   "outputs": [],
   "source": [
    "convert_ply(clusters[1])"
   ]
  },
  {
   "cell_type": "code",
   "execution_count": 251,
   "id": "a4a94dfa",
   "metadata": {},
   "outputs": [
    {
     "data": {
      "text/plain": [
       "1174"
      ]
     },
     "execution_count": 251,
     "metadata": {},
     "output_type": "execute_result"
    }
   ],
   "source": [
    "len(clusters[0])"
   ]
  },
  {
   "cell_type": "code",
   "execution_count": 252,
   "id": "2e694d02",
   "metadata": {},
   "outputs": [],
   "source": [
    "max_x = max(point[0] for point in clusters[0])\n",
    "min_x = min(point[0] for point in clusters[0])\n",
    "\n",
    "max_z = max(point[1] for point in clusters[0])\n",
    "min_z = min(point[1] for point in clusters[0])"
   ]
  },
  {
   "cell_type": "code",
   "execution_count": 254,
   "id": "635aed86",
   "metadata": {},
   "outputs": [],
   "source": [
    "for i in range(len(filtered_points)):\n",
    "    if(min_z <= filtered_points[i][1] <= max_z and min_x <= filtered_points[i][0] <= max_x):\n",
    "        clusters[0] = np.concatenate([clusters[0], [filtered_points[i]]])"
   ]
  },
  {
   "cell_type": "code",
   "execution_count": 255,
   "id": "54029252",
   "metadata": {},
   "outputs": [
    {
     "data": {
      "text/plain": [
       "3460"
      ]
     },
     "execution_count": 255,
     "metadata": {},
     "output_type": "execute_result"
    }
   ],
   "source": [
    "len(clusters[0])"
   ]
  },
  {
   "cell_type": "code",
   "execution_count": 256,
   "id": "a951bd84",
   "metadata": {},
   "outputs": [],
   "source": [
    "convert_ply(clusters[0])"
   ]
  },
  {
   "cell_type": "code",
   "execution_count": null,
   "id": "f84adc17",
   "metadata": {},
   "outputs": [],
   "source": []
  }
 ],
 "metadata": {
  "kernelspec": {
   "display_name": "Python 3 (ipykernel)",
   "language": "python",
   "name": "python3"
  },
  "language_info": {
   "codemirror_mode": {
    "name": "ipython",
    "version": 3
   },
   "file_extension": ".py",
   "mimetype": "text/x-python",
   "name": "python",
   "nbconvert_exporter": "python",
   "pygments_lexer": "ipython3",
   "version": "3.11.4"
  }
 },
 "nbformat": 4,
 "nbformat_minor": 5
}
